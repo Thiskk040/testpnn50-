{
 "cells": [
  {
   "cell_type": "code",
   "execution_count": 12,
   "id": "c9ce9596",
   "metadata": {},
   "outputs": [
    {
     "name": "stdout",
     "output_type": "stream",
     "text": [
      "        norm_time character_status    ecg    hr  rr  marker\n",
      "0        0.000000             Walk  0.061  95.0 NaN     NaN\n",
      "1        0.007694             Walk  0.048   NaN NaN     NaN\n",
      "2        0.015388             Walk  0.048   NaN NaN     NaN\n",
      "3        0.023082             Walk  0.036   NaN NaN     NaN\n",
      "4        0.030776             Walk  0.009   NaN NaN     NaN\n",
      "...           ...              ...    ...   ...  ..     ...\n",
      "15866  112.397835  RightHandToFace  0.068   NaN NaN     NaN\n",
      "15867  112.405529  RightHandToFace  0.019   NaN NaN     NaN\n",
      "15868  112.413224  RightHandToFace -0.095   NaN NaN     NaN\n",
      "15869  112.420918  RightHandToFace -0.066   NaN NaN     NaN\n",
      "15870  112.428612  RightHandToFace  0.405   NaN NaN     NaN\n",
      "\n",
      "[15871 rows x 6 columns]\n"
     ]
    }
   ],
   "source": [
    "import pandas as pd \n",
    "import numpy as np \n",
    "import matplotlib.pyplot as plt \n",
    " \n",
    "\n",
    "file_path  = \"0000_man.csv\"\n",
    "df   = pd.read_csv(file_path)\n",
    "df.columns = df.columns.str.strip()\n",
    "df.rename(columns={'Character_status': 'character_status'}, inplace=True)\n",
    "print(df)"
   ]
  },
  {
   "cell_type": "code",
   "execution_count": 14,
   "id": "51f87d9d",
   "metadata": {},
   "outputs": [
    {
     "name": "stdout",
     "output_type": "stream",
     "text": [
      "0        680.401375\n",
      "1        680.401375\n",
      "2        680.401375\n",
      "3        680.401375\n",
      "4        680.401375\n",
      "            ...    \n",
      "15866    814.000000\n",
      "15867    814.000000\n",
      "15868    814.000000\n",
      "15869    814.000000\n",
      "15870    814.000000\n",
      "Name: rr, Length: 15871, dtype: float64\n",
      "0        660.126631\n",
      "1        680.263181\n",
      "2        647.262971\n",
      "3        687.370359\n",
      "4        694.785503\n",
      "            ...    \n",
      "15866    838.256613\n",
      "15867    819.902206\n",
      "15868    830.379102\n",
      "15869    834.404662\n",
      "15870    783.292774\n",
      "Name: rr_adjusted, Length: 15871, dtype: float64\n",
      "                   pNN50  RR_count\n",
      "character_status                  \n",
      "LeftHandToFace    7.74 %      2003\n",
      "LetfHandToBody    7.99 %      2391\n",
      "RightHandToBody   7.74 %      1953\n",
      "RightHandToFace   8.55 %      2900\n",
      "TouchBody         8.41 %      2261\n",
      "TouchFace         7.29 %      2512\n",
      "Walk              7.78 %      1851\n"
     ]
    },
    {
     "name": "stderr",
     "output_type": "stream",
     "text": [
      "/var/folders/lh/ks9q3nkx765f79y1wmbm14nc0000gn/T/ipykernel_55756/1777994329.py:4: FutureWarning: A value is trying to be set on a copy of a DataFrame or Series through chained assignment using an inplace method.\n",
      "The behavior will change in pandas 3.0. This inplace method will never work because the intermediate object on which we are setting values always behaves as a copy.\n",
      "\n",
      "For example, when doing 'df[col].method(value, inplace=True)', try using 'df.method({col: value}, inplace=True)' or df[col] = df[col].method(value) instead, to perform the operation inplace on the original object.\n",
      "\n",
      "\n",
      "  df['rr'].fillna(df['rr'].mean(), inplace=True)\n",
      "/var/folders/lh/ks9q3nkx765f79y1wmbm14nc0000gn/T/ipykernel_55756/1777994329.py:19: DeprecationWarning: DataFrameGroupBy.apply operated on the grouping columns. This behavior is deprecated, and in a future version of pandas the grouping columns will be excluded from the operation. Either pass `include_groups=False` to exclude the groupings or explicitly select the grouping columns after groupby to silence this warning.\n",
      "  pnn50_results = df.groupby('character_status').apply(calculatePnn50)\n"
     ]
    }
   ],
   "source": [
    "if 'rr' in df.columns:\n",
    "    df['rr'] = pd.to_numeric(df['rr'], errors='coerce')\n",
    "    df['rr'] = df['rr'].interpolate(method='linear')\n",
    "    df['rr'].fillna(df['rr'].mean(), inplace=True)\n",
    "    print(df['rr'])\n",
    "\n",
    "    df['rr_adjusted'] = df['rr'] + np.random.normal(loc=0, scale=20, size=df.shape[0])\n",
    "    print(df['rr_adjusted'])\n",
    "\n",
    "# ✅ Define the function OUTSIDE the if block\n",
    "def calculatePnn50(group):\n",
    "    rr_diff = group['rr_adjusted'].diff().dropna()\n",
    "    nn50 = (rr_diff.abs() > 50).sum()\n",
    "    total_rr = len(rr_diff)\n",
    "    pnn50 = (nn50 / total_rr) * 100 if total_rr > 0 else 0\n",
    "    return pnn50 \n",
    "\n",
    "pnn50_results = df.groupby('character_status').apply(calculatePnn50)\n",
    "rr_counts = df.groupby('character_status')['rr_adjusted'].count()\n",
    "pnn50_summary = pd.DataFrame({\n",
    "    'pNN50': pnn50_results.round(2).astype(str) + ' %',\n",
    "    'RR_count': rr_counts\n",
    "})\n",
    "\n",
    "print(pnn50_summary)\n",
    "\n",
    "\n",
    "\n",
    "\n",
    "\n"
   ]
  }
 ],
 "metadata": {
  "kernelspec": {
   "display_name": "Python 3",
   "language": "python",
   "name": "python3"
  },
  "language_info": {
   "codemirror_mode": {
    "name": "ipython",
    "version": 3
   },
   "file_extension": ".py",
   "mimetype": "text/x-python",
   "name": "python",
   "nbconvert_exporter": "python",
   "pygments_lexer": "ipython3",
   "version": "3.11.1"
  }
 },
 "nbformat": 4,
 "nbformat_minor": 5
}
